{
 "cells": [
  {
   "cell_type": "code",
   "execution_count": null,
   "id": "e5e1bc98-2444-4375-939a-bf2648374cdf",
   "metadata": {},
   "outputs": [],
   "source": [
    "%pip install jupyterlab_code_formatter"
   ]
  },
  {
   "cell_type": "code",
   "execution_count": 34,
   "id": "f739d665-34fb-4a1d-93dd-ad67e6135d13",
   "metadata": {},
   "outputs": [],
   "source": [
    "from pathlib import Path\n",
    "import anndata as ad\n",
    "import scanpy as sc\n",
    "import numpy as np\n",
    "import pandas as pd\n",
    "import json\n",
    "\n",
    "from rich.console import Console\n",
    "\n",
    "console = Console()"
   ]
  },
  {
   "cell_type": "code",
   "execution_count": 4,
   "id": "a5695ec2-48fd-4589-972d-1881ad02d950",
   "metadata": {},
   "outputs": [
    {
     "data": {
      "text/plain": [
       "PosixPath('/Users/milessmith')"
      ]
     },
     "execution_count": 4,
     "metadata": {},
     "output_type": "execute_result"
    }
   ],
   "source": [
    "Path().home() "
   ]
  },
  {
   "cell_type": "code",
   "execution_count": 5,
   "id": "9bf3df7e-b80f-43ed-8fa4-0c03eed49f42",
   "metadata": {},
   "outputs": [
    {
     "data": {
      "text/plain": [
       "True"
      ]
     },
     "execution_count": 5,
     "metadata": {},
     "output_type": "execute_result"
    }
   ],
   "source": [
    "pdc_sc_file = Path().home() / \"workspace\" / \"seurat-disk\" / \"gse135779_dendritic_cells.h5ad\"\n",
    "pdc_sc_file.exists()"
   ]
  },
  {
   "cell_type": "code",
   "execution_count": 9,
   "id": "d42c1473-47b9-4607-8022-9a3c3e4b8a97",
   "metadata": {},
   "outputs": [],
   "source": [
    "adata = ad.read(pdc_sc_file)"
   ]
  },
  {
   "cell_type": "code",
   "execution_count": 10,
   "id": "917b724a-c955-4661-b7f7-5feccdde98f2",
   "metadata": {},
   "outputs": [
    {
     "data": {
      "text/plain": [
       "AnnData object with n_obs × n_vars = 3581 × 24445\n",
       "    obs: 'source', 'sample_title', 'source_name', 'age', 'age_group', 'disease_status', 'Groups', 'Batch', 'Gender', 'Race', 'Ethnicity', 'SLEDAI', 'Physician Notes', 'Collection_year', 'Symptoms', 'MDG', 'Arthritis', 'Rash', 'Proteinuria', 'Hematuria', 'Urinary Casts', 'Pyuria', 'dsDNA', 'low_com', 'fever', 'pleurisy', 'vasculitis', 'Alopecia', 'Leukopenia', 'MMF', 'OS', 'MTX', 'Plaquenil', 'Neph_all', 'Proliferative_Neph', 'Memb_Neph', 'Nephrology_Class', 'Neph_class', 'ESR', 'WBC', 'RBC', 'MONOCYTE_per', 'NEUTROPHIL_per', 'LYMPHOCYTE_per', 'HGB', 'HCT', 'PLATELETS', 'NEU_ABS', 'LYM_ABS', 'CREATININE', 'ALBUMIN', 'DSDNA_ratio', 'DSDNA', 'C3', 'C4', 'ALT', 'AST', 'ALD', 'LDH', 'MSK', 'KIDNEY', 'SERUM', 'n_genes', 'n_genes_by_counts', 'total_counts', 'total_counts_mt', 'pct_counts_mt', 'doublet_score', 'predicted_doublet', 'predicted_doublets_1', 'leiden', 'leiden_0.6', 'leiden_0.7', 'leiden_0.8', 'leiden_0.9', 'leiden_1.0', 'leiden_1.1', 'leiden_1.2', 'paper_cell_type', 'M1.2', 'M3.4', '5.12', 'M1.2_paper_score', 'M3.4_paper_score', 'M5.12_paper_score', 'paper_IFN_score', 'type_disease'\n",
       "    var: 'n_cells', 'mt', 'n_cells_by_counts', 'mean_counts', 'pct_dropout_by_counts', 'total_counts', 'highly_variable', 'means', 'dispersions', 'dispersions_norm', 'mean', 'std'\n",
       "    uns: 'Batch_colors', 'Race_colors', 'dendrogram_leiden', 'dendrogram_leiden_0.7', 'dendrogram_leiden_1.1', 'dendrogram_leiden_1.2', 'dendrogram_paper_cell_type', 'disease_status_colors', 'hvg', 'leiden', 'leiden_0.6_colors', 'leiden_0.7_colors', 'leiden_0.8_colors', 'leiden_0.9_colors', 'leiden_1.0_colors', 'leiden_1.1_colors', 'leiden_1.2_colors', 'leiden_colors', 'leiden_sizes', 'neighbors', 'paga', 'paper_cell_type_colors', 'pca', 'scrublet', 'type_disease_colors', 'umap'\n",
       "    obsm: 'X_pca', 'X_pca_harmony', 'X_umap'\n",
       "    varm: 'PCs'\n",
       "    obsp: 'connectivities', 'distances'"
      ]
     },
     "execution_count": 10,
     "metadata": {},
     "output_type": "execute_result"
    }
   ],
   "source": [
    "adata"
   ]
  },
  {
   "cell_type": "code",
   "execution_count": 15,
   "id": "05def183-fe2d-40db-80c4-1b7d95b87f3e",
   "metadata": {},
   "outputs": [],
   "source": [
    "obs = adata.obs.to_dict()"
   ]
  },
  {
   "cell_type": "code",
   "execution_count": 16,
   "id": "b77da93b-09e9-48f4-ad6d-74eedc2a1f21",
   "metadata": {},
   "outputs": [],
   "source": [
    "var = adata.var.to_dict()"
   ]
  },
  {
   "cell_type": "code",
   "execution_count": 20,
   "id": "bb9c29e4-bde5-4612-b974-d86b692fc82e",
   "metadata": {},
   "outputs": [],
   "source": [
    "scale_data = pd.DataFrame(adata.X.T, index=adata.var.index, columns=adata.obs.index)"
   ]
  },
  {
   "cell_type": "code",
   "execution_count": 25,
   "id": "8a5c9c0d-bebc-4aae-81ae-0155e1bc35c3",
   "metadata": {},
   "outputs": [],
   "source": [
    "counts = data = adata.raw.X.toarray().tolist()"
   ]
  },
  {
   "cell_type": "code",
   "execution_count": 36,
   "id": "1b28e6f7-0432-4dce-b3ae-b7ad9bb2633c",
   "metadata": {},
   "outputs": [
    {
     "data": {
      "text/html": [
       "<pre style=\"white-space:pre;overflow-x:auto;line-height:normal;font-family:Menlo,'DejaVu Sans Mono',consolas,'Courier New',monospace\">Batch_colors\n",
       "Race_colors\n",
       "dendrogram_leiden\n",
       "dendrogram_leiden_0.<span style=\"color: #008080; text-decoration-color: #008080; font-weight: bold\">7</span>\n",
       "dendrogram_leiden_1.<span style=\"color: #008080; text-decoration-color: #008080; font-weight: bold\">1</span>\n",
       "dendrogram_leiden_1.<span style=\"color: #008080; text-decoration-color: #008080; font-weight: bold\">2</span>\n",
       "dendrogram_paper_cell_type\n",
       "disease_status_colors\n",
       "hvg\n",
       "leiden\n",
       "leiden_0.6_colors\n",
       "leiden_0.7_colors\n",
       "leiden_0.8_colors\n",
       "leiden_0.9_colors\n",
       "leiden_1.0_colors\n",
       "leiden_1.1_colors\n",
       "leiden_1.2_colors\n",
       "leiden_colors\n",
       "leiden_sizes\n",
       "neighbors\n",
       "paga\n",
       "paper_cell_type_colors\n",
       "pca\n",
       "scrublet\n",
       "type_disease_colors\n",
       "umap\n",
       "</pre>\n"
      ],
      "text/plain": [
       "Batch_colors\n",
       "Race_colors\n",
       "dendrogram_leiden\n",
       "dendrogram_leiden_0.\u001b[1;36m7\u001b[0m\n",
       "dendrogram_leiden_1.\u001b[1;36m1\u001b[0m\n",
       "dendrogram_leiden_1.\u001b[1;36m2\u001b[0m\n",
       "dendrogram_paper_cell_type\n",
       "disease_status_colors\n",
       "hvg\n",
       "leiden\n",
       "leiden_0.6_colors\n",
       "leiden_0.7_colors\n",
       "leiden_0.8_colors\n",
       "leiden_0.9_colors\n",
       "leiden_1.0_colors\n",
       "leiden_1.1_colors\n",
       "leiden_1.2_colors\n",
       "leiden_colors\n",
       "leiden_sizes\n",
       "neighbors\n",
       "paga\n",
       "paper_cell_type_colors\n",
       "pca\n",
       "scrublet\n",
       "type_disease_colors\n",
       "umap\n"
      ]
     },
     "metadata": {},
     "output_type": "display_data"
    }
   ],
   "source": [
    "console.print(\"\\n\".join(adata.uns.keys()))"
   ]
  },
  {
   "cell_type": "code",
   "execution_count": 121,
   "id": "611528d1-d30a-48b1-a914-2dbb513e5e6f",
   "metadata": {},
   "outputs": [
    {
     "data": {
      "text/plain": [
       "OverloadedDict, wrapping:\n",
       "\t{'connectivities_key': 'connectivities', 'distances_key': 'distances', 'params': {'bbknn': {'batch_key': 'Batch', 'computation': 'annoy'}, 'method': 'umap', 'metric': 'euclidean', 'n_neighbors': 18, 'n_pcs': 50, 'use_rep': 'X_pca'}}\n",
       "With overloaded keys:\n",
       "\t['connectivities', 'distances']."
      ]
     },
     "execution_count": 121,
     "metadata": {},
     "output_type": "execute_result"
    }
   ],
   "source": [
    "adata.uns['neighbors']"
   ]
  },
  {
   "cell_type": "code",
   "execution_count": 117,
   "id": "966b21ae-d634-4294-9d9e-5028861d59d6",
   "metadata": {},
   "outputs": [
    {
     "data": {
      "text/plain": [
       "{'params': {'use_highly_variable': True, 'zero_center': True},\n",
       " 'variance': array([86.15185265, 28.55694549, 22.50096649, 10.8645739 ,  8.60999311,\n",
       "         6.60800075,  5.67942201,  4.60014638,  4.37906934,  3.46735845,\n",
       "         3.09973366,  3.07847449,  3.00229578,  2.65815579,  2.57068878,\n",
       "         2.39611275,  2.28238416,  2.12935717,  2.00298074,  1.98820861,\n",
       "         1.91198072,  1.84079014,  1.78859821,  1.70851625,  1.66508951,\n",
       "         1.61910031,  1.61087405,  1.55329713,  1.5138243 ,  1.45534873,\n",
       "         1.41051095,  1.40869266,  1.3815518 ,  1.36239142,  1.34343684,\n",
       "         1.29593083,  1.29075656,  1.28258458,  1.28087383,  1.25743868,\n",
       "         1.24012998,  1.22728915,  1.219082  ,  1.2082789 ,  1.19406906,\n",
       "         1.18429387,  1.17487045,  1.1613479 ,  1.1527541 ,  1.14383312]),\n",
       " 'variance_ratio': array([0.08197583, 0.02717271, 0.02141028, 0.01033794, 0.00819264,\n",
       "        0.00628769, 0.00540412, 0.00437716, 0.0041668 , 0.00329929,\n",
       "        0.00294948, 0.00292925, 0.00285677, 0.00252931, 0.00244608,\n",
       "        0.00227997, 0.00217175, 0.00202614, 0.00190589, 0.00189183,\n",
       "        0.0018193 , 0.00175156, 0.0017019 , 0.0016257 , 0.00158438,\n",
       "        0.00154062, 0.00153279, 0.001478  , 0.00144044, 0.0013848 ,\n",
       "        0.00134214, 0.00134041, 0.00131458, 0.00129635, 0.00127832,\n",
       "        0.00123311, 0.00122819, 0.00122041, 0.00121879, 0.00119649,\n",
       "        0.00118002, 0.0011678 , 0.00115999, 0.00114971, 0.00113619,\n",
       "        0.00112689, 0.00111792, 0.00110505, 0.00109688, 0.00108839])}"
      ]
     },
     "execution_count": 117,
     "metadata": {},
     "output_type": "execute_result"
    }
   ],
   "source": [
    "adata.uns['pca']"
   ]
  },
  {
   "cell_type": "code",
   "execution_count": 120,
   "id": "6e4d219f-8de0-432c-9c06-3bbf1f4ea835",
   "metadata": {},
   "outputs": [
    {
     "data": {
      "text/plain": [
       "{'connectivities': <23x23 sparse matrix of type '<class 'numpy.float64'>'\n",
       " \twith 402 stored elements in Compressed Sparse Row format>,\n",
       " 'connectivities_tree': <23x23 sparse matrix of type '<class 'numpy.float64'>'\n",
       " \twith 22 stored elements in Compressed Sparse Row format>,\n",
       " 'groups': 'leiden',\n",
       " 'pos': array([[-2.30948171, -2.76308728],\n",
       "        [ 0.71499606,  1.55277463],\n",
       "        [ 1.48386032,  1.34416037],\n",
       "        [ 1.85377762,  0.33162468],\n",
       "        [ 1.61886384, -1.47934591],\n",
       "        [-3.13450644,  0.63701373],\n",
       "        [ 1.41475386, -2.83957608],\n",
       "        [ 1.05406364,  0.30716314],\n",
       "        [ 1.61438589, -0.31007325],\n",
       "        [-2.18669314, -3.6818753 ],\n",
       "        [ 0.18213493,  0.99424969],\n",
       "        [-3.67505868,  0.14677095],\n",
       "        [ 0.41353518,  0.30925481],\n",
       "        [ 2.56433481, -1.0183828 ],\n",
       "        [ 1.01199173, -2.06437687],\n",
       "        [-0.88354228, -1.42288061],\n",
       "        [-1.83203058, -1.68086298],\n",
       "        [ 1.09793357,  0.9901658 ],\n",
       "        [-1.77872204, -0.70906966],\n",
       "        [-0.33189436, -1.096285  ],\n",
       "        [-0.80259112, -0.04335801],\n",
       "        [ 0.6000582 , -0.83152312],\n",
       "        [-0.21993929, -0.39858329]])}"
      ]
     },
     "execution_count": 120,
     "metadata": {},
     "output_type": "execute_result"
    }
   ],
   "source": [
    "adata.uns['paga']"
   ]
  },
  {
   "cell_type": "code",
   "execution_count": 150,
   "id": "cfb034ea-d700-426c-a80d-04e083e08bfa",
   "metadata": {},
   "outputs": [],
   "source": [
    "import scipy as sp"
   ]
  },
  {
   "cell_type": "code",
   "execution_count": 151,
   "id": "63fdab0a-6918-4dec-9bc3-d25cf55c3941",
   "metadata": {},
   "outputs": [],
   "source": [
    "class NumpyEncoder(json.JSONEncoder):\n",
    "    \"\"\" Special json encoder for numpy types \"\"\"\n",
    "    def default(self, obj):\n",
    "        if isinstance(obj, (np.int_, np.intc, np.intp, np.int8,\n",
    "            np.int16, np.int32, np.int64, np.uint8,\n",
    "            np.uint16,np.uint32, np.uint64)):\n",
    "            return int(obj)\n",
    "        elif isinstance(obj, (np.float_, np.float16, np.float32, \n",
    "            np.float64)):\n",
    "            return float(obj)\n",
    "        elif isinstance(obj,(np.ndarray,)): #### This is the fix\n",
    "            return obj.tolist()\n",
    "        elif isinstance(obj, (sp.sparse.csr_matrix, sp.sparse.csc_matrix)):\n",
    "            return obj.todense().tolist()\n",
    "        return json.JSONEncoder.default(self, obj)"
   ]
  },
  {
   "cell_type": "code",
   "execution_count": 123,
   "id": "44231618-75c1-4085-a9e3-bd00406ad762",
   "metadata": {},
   "outputs": [],
   "source": [
    "alpha = NumpyEncoder()"
   ]
  },
  {
   "cell_type": "code",
   "execution_count": 124,
   "id": "b164c56e-16d6-448f-9aa2-0acb43a7aed4",
   "metadata": {},
   "outputs": [
    {
     "ename": "TypeError",
     "evalue": "'NumpyEncoder' object is not callable",
     "output_type": "error",
     "traceback": [
      "\u001b[0;31m---------------------------------------------------------------------------\u001b[0m",
      "\u001b[0;31mTypeError\u001b[0m                                 Traceback (most recent call last)",
      "Input \u001b[0;32mIn [124]\u001b[0m, in \u001b[0;36m<cell line: 1>\u001b[0;34m()\u001b[0m\n\u001b[0;32m----> 1\u001b[0m \u001b[43malpha\u001b[49m\u001b[43m(\u001b[49m\u001b[43madata\u001b[49m\u001b[38;5;241;43m.\u001b[39;49m\u001b[43muns\u001b[49m\u001b[43m[\u001b[49m\u001b[38;5;124;43m'\u001b[39;49m\u001b[38;5;124;43mpaga\u001b[39;49m\u001b[38;5;124;43m'\u001b[39;49m\u001b[43m]\u001b[49m\u001b[43m[\u001b[49m\u001b[38;5;124;43m'\u001b[39;49m\u001b[38;5;124;43mpos\u001b[39;49m\u001b[38;5;124;43m'\u001b[39;49m\u001b[43m]\u001b[49m\u001b[43m)\u001b[49m\n",
      "\u001b[0;31mTypeError\u001b[0m: 'NumpyEncoder' object is not callable"
     ]
    }
   ],
   "source": [
    "alpha(adata.uns['paga']['pos'])"
   ]
  },
  {
   "cell_type": "code",
   "execution_count": null,
   "id": "05c0bdab-f950-4390-b55b-7217db41c96a",
   "metadata": {},
   "outputs": [],
   "source": [
    "paga_dict = {\n",
    "    \"connectivities\":\n",
    "    \"connectivities_tree\":\n",
    "    \"groups\": adata.uns['paga']['groups']\n",
    "    \"pos\": adata.uns['paga']['pos'].tolist()\n",
    "}"
   ]
  },
  {
   "cell_type": "code",
   "execution_count": 117,
   "id": "f4737a6d-960a-47c9-b250-8eeaf14f3713",
   "metadata": {},
   "outputs": [
    {
     "data": {
      "text/plain": [
       "{'params': {'use_highly_variable': True, 'zero_center': True},\n",
       " 'variance': array([86.15185265, 28.55694549, 22.50096649, 10.8645739 ,  8.60999311,\n",
       "         6.60800075,  5.67942201,  4.60014638,  4.37906934,  3.46735845,\n",
       "         3.09973366,  3.07847449,  3.00229578,  2.65815579,  2.57068878,\n",
       "         2.39611275,  2.28238416,  2.12935717,  2.00298074,  1.98820861,\n",
       "         1.91198072,  1.84079014,  1.78859821,  1.70851625,  1.66508951,\n",
       "         1.61910031,  1.61087405,  1.55329713,  1.5138243 ,  1.45534873,\n",
       "         1.41051095,  1.40869266,  1.3815518 ,  1.36239142,  1.34343684,\n",
       "         1.29593083,  1.29075656,  1.28258458,  1.28087383,  1.25743868,\n",
       "         1.24012998,  1.22728915,  1.219082  ,  1.2082789 ,  1.19406906,\n",
       "         1.18429387,  1.17487045,  1.1613479 ,  1.1527541 ,  1.14383312]),\n",
       " 'variance_ratio': array([0.08197583, 0.02717271, 0.02141028, 0.01033794, 0.00819264,\n",
       "        0.00628769, 0.00540412, 0.00437716, 0.0041668 , 0.00329929,\n",
       "        0.00294948, 0.00292925, 0.00285677, 0.00252931, 0.00244608,\n",
       "        0.00227997, 0.00217175, 0.00202614, 0.00190589, 0.00189183,\n",
       "        0.0018193 , 0.00175156, 0.0017019 , 0.0016257 , 0.00158438,\n",
       "        0.00154062, 0.00153279, 0.001478  , 0.00144044, 0.0013848 ,\n",
       "        0.00134214, 0.00134041, 0.00131458, 0.00129635, 0.00127832,\n",
       "        0.00123311, 0.00122819, 0.00122041, 0.00121879, 0.00119649,\n",
       "        0.00118002, 0.0011678 , 0.00115999, 0.00114971, 0.00113619,\n",
       "        0.00112689, 0.00111792, 0.00110505, 0.00109688, 0.00108839])}"
      ]
     },
     "execution_count": 117,
     "metadata": {},
     "output_type": "execute_result"
    }
   ],
   "source": [
    "connectivities           = converted_object.uns[[\"paga\"]].connectivities.todense() %>%\n",
    "    magrittr::set_rownames(levels(converted_object.obs[[converted_object.uns[[\"paga\"]].groups]])) %>%\n",
    "    magrittr::set_colnames(levels(converted_object.obs[[converted_object.uns[[\"paga\"]].groups]])),\n",
    "connectivities_tree      = converted_object.uns[[\"paga\"]].connectivities_tree.todense(),\n",
    "group_name               = converted_object.uns[[\"paga\"]].groups,\n",
    "groups                   = levels(converted_object.obs[[converted_object.uns[[\"paga\"]].groups]]),\n",
    "position                 = tibble::as_tibble(\n",
    "  cbind(\n",
    "    levels(converted_object.obs[[converted_object.uns[[\"paga\"]]$groups]]),\n",
    "    converted_object.uns[[\"paga\"]].pos\n",
    "    ),\n",
    "  .name_repair = ~make.names(c(\"group\",\"x\", \"y\"))\n",
    ") %>%\n",
    "dplyr::mutate(\n",
    "  dplyr::across(\n",
    "    x:y,\n",
    "    .fns = as.numeric),\n",
    ")"
   ]
  },
  {
   "cell_type": "code",
   "execution_count": 54,
   "id": "78697bf9-add7-4a12-a82d-ea9b9e31e6a4",
   "metadata": {},
   "outputs": [
    {
     "data": {
      "text/plain": [
       "KeysView(AxisArrays with keys: X_pca, X_pca_harmony, X_umap)"
      ]
     },
     "execution_count": 54,
     "metadata": {},
     "output_type": "execute_result"
    }
   ],
   "source": [
    "adata.obsm.keys()"
   ]
  },
  {
   "cell_type": "code",
   "execution_count": 57,
   "id": "9fef12c3-0c00-4c7b-a8f7-f5cb8bf9b944",
   "metadata": {},
   "outputs": [
    {
     "data": {
      "text/plain": [
       "'pca'"
      ]
     },
     "execution_count": 57,
     "metadata": {},
     "output_type": "execute_result"
    }
   ],
   "source": [
    "\"X_pca\"[2:]"
   ]
  },
  {
   "cell_type": "code",
   "execution_count": 105,
   "id": "9996bd11-19a1-4062-8df4-02ebd6e722eb",
   "metadata": {},
   "outputs": [],
   "source": [
    "reductions = {\n",
    "    x[2:]: pd.DataFrame(\n",
    "        adata.obsm[x],\n",
    "        index=adata.obs.index,\n",
    "        columns=[\n",
    "            f\"{x[2:]}_{y+1}\" \n",
    "            for y \n",
    "            in range(adata.obsm[x].shape[1])\n",
    "        ]\n",
    "    ).to_dict()\n",
    "    for x \n",
    "    in adata.obsm\n",
    "}"
   ]
  },
  {
   "cell_type": "code",
   "execution_count": 62,
   "id": "2a6ce459-e628-430b-9fda-3390df9aee45",
   "metadata": {},
   "outputs": [
    {
     "data": {
      "text/plain": [
       "dict_keys(['pca', 'pca_harmony', 'umap'])"
      ]
     },
     "execution_count": 62,
     "metadata": {},
     "output_type": "execute_result"
    }
   ],
   "source": [
    "reductions.keys()"
   ]
  },
  {
   "cell_type": "code",
   "execution_count": 53,
   "id": "ae485226-fc06-41ab-82a8-8aa417a09c2a",
   "metadata": {},
   "outputs": [
    {
     "data": {
      "text/html": [
       "<div>\n",
       "<style scoped>\n",
       "    .dataframe tbody tr th:only-of-type {\n",
       "        vertical-align: middle;\n",
       "    }\n",
       "\n",
       "    .dataframe tbody tr th {\n",
       "        vertical-align: top;\n",
       "    }\n",
       "\n",
       "    .dataframe thead th {\n",
       "        text-align: right;\n",
       "    }\n",
       "</style>\n",
       "<table border=\"1\" class=\"dataframe\">\n",
       "  <thead>\n",
       "    <tr style=\"text-align: right;\">\n",
       "      <th></th>\n",
       "      <th>PC_1</th>\n",
       "      <th>PC_2</th>\n",
       "      <th>PC_3</th>\n",
       "      <th>PC_4</th>\n",
       "      <th>PC_5</th>\n",
       "      <th>PC_6</th>\n",
       "      <th>PC_7</th>\n",
       "      <th>PC_8</th>\n",
       "      <th>PC_9</th>\n",
       "      <th>PC_10</th>\n",
       "      <th>...</th>\n",
       "      <th>PC_41</th>\n",
       "      <th>PC_42</th>\n",
       "      <th>PC_43</th>\n",
       "      <th>PC_44</th>\n",
       "      <th>PC_45</th>\n",
       "      <th>PC_46</th>\n",
       "      <th>PC_47</th>\n",
       "      <th>PC_48</th>\n",
       "      <th>PC_49</th>\n",
       "      <th>PC_50</th>\n",
       "    </tr>\n",
       "    <tr>\n",
       "      <th>index</th>\n",
       "      <th></th>\n",
       "      <th></th>\n",
       "      <th></th>\n",
       "      <th></th>\n",
       "      <th></th>\n",
       "      <th></th>\n",
       "      <th></th>\n",
       "      <th></th>\n",
       "      <th></th>\n",
       "      <th></th>\n",
       "      <th></th>\n",
       "      <th></th>\n",
       "      <th></th>\n",
       "      <th></th>\n",
       "      <th></th>\n",
       "      <th></th>\n",
       "      <th></th>\n",
       "      <th></th>\n",
       "      <th></th>\n",
       "      <th></th>\n",
       "      <th></th>\n",
       "    </tr>\n",
       "  </thead>\n",
       "  <tbody>\n",
       "    <tr>\n",
       "      <th>AACCATGGTATGAAAC-1</th>\n",
       "      <td>10.484332</td>\n",
       "      <td>-2.401657</td>\n",
       "      <td>3.555409</td>\n",
       "      <td>1.499859</td>\n",
       "      <td>-0.746435</td>\n",
       "      <td>-4.436718</td>\n",
       "      <td>2.990424</td>\n",
       "      <td>7.212704</td>\n",
       "      <td>2.875020</td>\n",
       "      <td>-0.945514</td>\n",
       "      <td>...</td>\n",
       "      <td>-1.358888</td>\n",
       "      <td>0.822231</td>\n",
       "      <td>1.151383</td>\n",
       "      <td>-1.378668</td>\n",
       "      <td>0.442008</td>\n",
       "      <td>-0.145201</td>\n",
       "      <td>-2.874534</td>\n",
       "      <td>-1.959599</td>\n",
       "      <td>-1.336630</td>\n",
       "      <td>-1.220799</td>\n",
       "    </tr>\n",
       "    <tr>\n",
       "      <th>ACACCAAGTCGAGTTT-1</th>\n",
       "      <td>-1.782083</td>\n",
       "      <td>-6.330986</td>\n",
       "      <td>8.614363</td>\n",
       "      <td>0.889285</td>\n",
       "      <td>-0.799406</td>\n",
       "      <td>2.938410</td>\n",
       "      <td>0.331832</td>\n",
       "      <td>9.153931</td>\n",
       "      <td>4.142703</td>\n",
       "      <td>-6.959538</td>\n",
       "      <td>...</td>\n",
       "      <td>-1.441624</td>\n",
       "      <td>-1.730962</td>\n",
       "      <td>0.787420</td>\n",
       "      <td>0.416010</td>\n",
       "      <td>1.038409</td>\n",
       "      <td>-0.824267</td>\n",
       "      <td>-1.948982</td>\n",
       "      <td>1.355736</td>\n",
       "      <td>-0.379222</td>\n",
       "      <td>-0.905751</td>\n",
       "    </tr>\n",
       "    <tr>\n",
       "      <th>ACGCCAGCAGACAGGT-1</th>\n",
       "      <td>14.918124</td>\n",
       "      <td>-2.144189</td>\n",
       "      <td>3.151689</td>\n",
       "      <td>2.229359</td>\n",
       "      <td>-1.050490</td>\n",
       "      <td>-4.931815</td>\n",
       "      <td>3.189063</td>\n",
       "      <td>6.813643</td>\n",
       "      <td>1.394702</td>\n",
       "      <td>-0.033418</td>\n",
       "      <td>...</td>\n",
       "      <td>-1.848132</td>\n",
       "      <td>2.115363</td>\n",
       "      <td>1.840761</td>\n",
       "      <td>-2.369589</td>\n",
       "      <td>1.895067</td>\n",
       "      <td>-1.575129</td>\n",
       "      <td>-2.158931</td>\n",
       "      <td>-0.539143</td>\n",
       "      <td>-1.303932</td>\n",
       "      <td>0.796643</td>\n",
       "    </tr>\n",
       "    <tr>\n",
       "      <th>ACGCCGAGTGGTCCGT-1</th>\n",
       "      <td>14.396186</td>\n",
       "      <td>-0.922430</td>\n",
       "      <td>1.016184</td>\n",
       "      <td>1.886516</td>\n",
       "      <td>-2.976161</td>\n",
       "      <td>-3.431367</td>\n",
       "      <td>2.909841</td>\n",
       "      <td>5.698184</td>\n",
       "      <td>2.763397</td>\n",
       "      <td>-1.306670</td>\n",
       "      <td>...</td>\n",
       "      <td>-0.638778</td>\n",
       "      <td>1.995858</td>\n",
       "      <td>0.371237</td>\n",
       "      <td>-0.008700</td>\n",
       "      <td>-0.310140</td>\n",
       "      <td>0.825474</td>\n",
       "      <td>-2.082528</td>\n",
       "      <td>-1.248391</td>\n",
       "      <td>0.124999</td>\n",
       "      <td>-0.963047</td>\n",
       "    </tr>\n",
       "    <tr>\n",
       "      <th>ACTATCTGTCAGATAA-1</th>\n",
       "      <td>14.408496</td>\n",
       "      <td>-2.632018</td>\n",
       "      <td>3.997578</td>\n",
       "      <td>0.801103</td>\n",
       "      <td>-3.727183</td>\n",
       "      <td>-3.866319</td>\n",
       "      <td>4.812366</td>\n",
       "      <td>5.489749</td>\n",
       "      <td>0.012452</td>\n",
       "      <td>1.026114</td>\n",
       "      <td>...</td>\n",
       "      <td>-1.761564</td>\n",
       "      <td>2.359302</td>\n",
       "      <td>-0.223252</td>\n",
       "      <td>-1.988335</td>\n",
       "      <td>1.956457</td>\n",
       "      <td>0.235083</td>\n",
       "      <td>-1.322299</td>\n",
       "      <td>-1.792635</td>\n",
       "      <td>-0.179830</td>\n",
       "      <td>1.477882</td>\n",
       "    </tr>\n",
       "    <tr>\n",
       "      <th>...</th>\n",
       "      <td>...</td>\n",
       "      <td>...</td>\n",
       "      <td>...</td>\n",
       "      <td>...</td>\n",
       "      <td>...</td>\n",
       "      <td>...</td>\n",
       "      <td>...</td>\n",
       "      <td>...</td>\n",
       "      <td>...</td>\n",
       "      <td>...</td>\n",
       "      <td>...</td>\n",
       "      <td>...</td>\n",
       "      <td>...</td>\n",
       "      <td>...</td>\n",
       "      <td>...</td>\n",
       "      <td>...</td>\n",
       "      <td>...</td>\n",
       "      <td>...</td>\n",
       "      <td>...</td>\n",
       "      <td>...</td>\n",
       "      <td>...</td>\n",
       "    </tr>\n",
       "    <tr>\n",
       "      <th>TGGACGCTCTAACTGG-1</th>\n",
       "      <td>0.201369</td>\n",
       "      <td>-4.536259</td>\n",
       "      <td>7.878009</td>\n",
       "      <td>2.059956</td>\n",
       "      <td>1.412919</td>\n",
       "      <td>5.479008</td>\n",
       "      <td>0.067531</td>\n",
       "      <td>8.311974</td>\n",
       "      <td>3.674337</td>\n",
       "      <td>-5.845946</td>\n",
       "      <td>...</td>\n",
       "      <td>1.312516</td>\n",
       "      <td>-1.946467</td>\n",
       "      <td>-0.155555</td>\n",
       "      <td>1.202487</td>\n",
       "      <td>1.331312</td>\n",
       "      <td>0.405680</td>\n",
       "      <td>-2.672419</td>\n",
       "      <td>1.831269</td>\n",
       "      <td>0.925069</td>\n",
       "      <td>-0.587969</td>\n",
       "    </tr>\n",
       "    <tr>\n",
       "      <th>TTGAACGCATGGTCAT-1-1</th>\n",
       "      <td>0.104328</td>\n",
       "      <td>-6.923811</td>\n",
       "      <td>10.684989</td>\n",
       "      <td>0.809327</td>\n",
       "      <td>2.719321</td>\n",
       "      <td>5.321178</td>\n",
       "      <td>-0.131308</td>\n",
       "      <td>7.121349</td>\n",
       "      <td>3.012685</td>\n",
       "      <td>-3.988364</td>\n",
       "      <td>...</td>\n",
       "      <td>1.668529</td>\n",
       "      <td>-2.877595</td>\n",
       "      <td>-0.298950</td>\n",
       "      <td>0.265334</td>\n",
       "      <td>0.964924</td>\n",
       "      <td>-2.763489</td>\n",
       "      <td>-2.658211</td>\n",
       "      <td>2.034500</td>\n",
       "      <td>0.330851</td>\n",
       "      <td>-2.642577</td>\n",
       "    </tr>\n",
       "    <tr>\n",
       "      <th>TTGCGTCGTGGACGAT-1</th>\n",
       "      <td>-1.016765</td>\n",
       "      <td>-4.419604</td>\n",
       "      <td>6.655819</td>\n",
       "      <td>0.722023</td>\n",
       "      <td>2.070893</td>\n",
       "      <td>6.110560</td>\n",
       "      <td>-1.714434</td>\n",
       "      <td>9.812870</td>\n",
       "      <td>4.071648</td>\n",
       "      <td>-4.195024</td>\n",
       "      <td>...</td>\n",
       "      <td>0.952799</td>\n",
       "      <td>-0.750392</td>\n",
       "      <td>0.090800</td>\n",
       "      <td>0.701021</td>\n",
       "      <td>0.036625</td>\n",
       "      <td>-1.169341</td>\n",
       "      <td>-3.614798</td>\n",
       "      <td>1.115960</td>\n",
       "      <td>-0.197329</td>\n",
       "      <td>-1.630340</td>\n",
       "    </tr>\n",
       "    <tr>\n",
       "      <th>TTTATGCGTACACCGC-1</th>\n",
       "      <td>1.179270</td>\n",
       "      <td>-3.865394</td>\n",
       "      <td>7.954023</td>\n",
       "      <td>2.476785</td>\n",
       "      <td>0.795513</td>\n",
       "      <td>0.334906</td>\n",
       "      <td>1.735101</td>\n",
       "      <td>28.251945</td>\n",
       "      <td>8.888841</td>\n",
       "      <td>5.884102</td>\n",
       "      <td>...</td>\n",
       "      <td>-1.133924</td>\n",
       "      <td>1.708018</td>\n",
       "      <td>-0.269028</td>\n",
       "      <td>0.221465</td>\n",
       "      <td>0.982527</td>\n",
       "      <td>0.891451</td>\n",
       "      <td>-0.780813</td>\n",
       "      <td>-0.654328</td>\n",
       "      <td>0.642854</td>\n",
       "      <td>-0.053648</td>\n",
       "    </tr>\n",
       "    <tr>\n",
       "      <th>TTTGCGCCAGTTCCCT-1</th>\n",
       "      <td>10.993345</td>\n",
       "      <td>-3.242196</td>\n",
       "      <td>6.761083</td>\n",
       "      <td>-0.546153</td>\n",
       "      <td>0.842781</td>\n",
       "      <td>-1.106745</td>\n",
       "      <td>4.131862</td>\n",
       "      <td>6.739306</td>\n",
       "      <td>-0.019550</td>\n",
       "      <td>1.225001</td>\n",
       "      <td>...</td>\n",
       "      <td>-3.104433</td>\n",
       "      <td>1.003681</td>\n",
       "      <td>1.344354</td>\n",
       "      <td>-1.172516</td>\n",
       "      <td>0.540990</td>\n",
       "      <td>-0.476032</td>\n",
       "      <td>-1.619183</td>\n",
       "      <td>-0.427142</td>\n",
       "      <td>-0.571507</td>\n",
       "      <td>1.040255</td>\n",
       "    </tr>\n",
       "  </tbody>\n",
       "</table>\n",
       "<p>3581 rows × 50 columns</p>\n",
       "</div>"
      ],
      "text/plain": [
       "                           PC_1      PC_2       PC_3      PC_4      PC_5  \\\n",
       "index                                                                      \n",
       "AACCATGGTATGAAAC-1    10.484332 -2.401657   3.555409  1.499859 -0.746435   \n",
       "ACACCAAGTCGAGTTT-1    -1.782083 -6.330986   8.614363  0.889285 -0.799406   \n",
       "ACGCCAGCAGACAGGT-1    14.918124 -2.144189   3.151689  2.229359 -1.050490   \n",
       "ACGCCGAGTGGTCCGT-1    14.396186 -0.922430   1.016184  1.886516 -2.976161   \n",
       "ACTATCTGTCAGATAA-1    14.408496 -2.632018   3.997578  0.801103 -3.727183   \n",
       "...                         ...       ...        ...       ...       ...   \n",
       "TGGACGCTCTAACTGG-1     0.201369 -4.536259   7.878009  2.059956  1.412919   \n",
       "TTGAACGCATGGTCAT-1-1   0.104328 -6.923811  10.684989  0.809327  2.719321   \n",
       "TTGCGTCGTGGACGAT-1    -1.016765 -4.419604   6.655819  0.722023  2.070893   \n",
       "TTTATGCGTACACCGC-1     1.179270 -3.865394   7.954023  2.476785  0.795513   \n",
       "TTTGCGCCAGTTCCCT-1    10.993345 -3.242196   6.761083 -0.546153  0.842781   \n",
       "\n",
       "                          PC_6      PC_7       PC_8      PC_9     PC_10  ...  \\\n",
       "index                                                                    ...   \n",
       "AACCATGGTATGAAAC-1   -4.436718  2.990424   7.212704  2.875020 -0.945514  ...   \n",
       "ACACCAAGTCGAGTTT-1    2.938410  0.331832   9.153931  4.142703 -6.959538  ...   \n",
       "ACGCCAGCAGACAGGT-1   -4.931815  3.189063   6.813643  1.394702 -0.033418  ...   \n",
       "ACGCCGAGTGGTCCGT-1   -3.431367  2.909841   5.698184  2.763397 -1.306670  ...   \n",
       "ACTATCTGTCAGATAA-1   -3.866319  4.812366   5.489749  0.012452  1.026114  ...   \n",
       "...                        ...       ...        ...       ...       ...  ...   \n",
       "TGGACGCTCTAACTGG-1    5.479008  0.067531   8.311974  3.674337 -5.845946  ...   \n",
       "TTGAACGCATGGTCAT-1-1  5.321178 -0.131308   7.121349  3.012685 -3.988364  ...   \n",
       "TTGCGTCGTGGACGAT-1    6.110560 -1.714434   9.812870  4.071648 -4.195024  ...   \n",
       "TTTATGCGTACACCGC-1    0.334906  1.735101  28.251945  8.888841  5.884102  ...   \n",
       "TTTGCGCCAGTTCCCT-1   -1.106745  4.131862   6.739306 -0.019550  1.225001  ...   \n",
       "\n",
       "                         PC_41     PC_42     PC_43     PC_44     PC_45  \\\n",
       "index                                                                    \n",
       "AACCATGGTATGAAAC-1   -1.358888  0.822231  1.151383 -1.378668  0.442008   \n",
       "ACACCAAGTCGAGTTT-1   -1.441624 -1.730962  0.787420  0.416010  1.038409   \n",
       "ACGCCAGCAGACAGGT-1   -1.848132  2.115363  1.840761 -2.369589  1.895067   \n",
       "ACGCCGAGTGGTCCGT-1   -0.638778  1.995858  0.371237 -0.008700 -0.310140   \n",
       "ACTATCTGTCAGATAA-1   -1.761564  2.359302 -0.223252 -1.988335  1.956457   \n",
       "...                        ...       ...       ...       ...       ...   \n",
       "TGGACGCTCTAACTGG-1    1.312516 -1.946467 -0.155555  1.202487  1.331312   \n",
       "TTGAACGCATGGTCAT-1-1  1.668529 -2.877595 -0.298950  0.265334  0.964924   \n",
       "TTGCGTCGTGGACGAT-1    0.952799 -0.750392  0.090800  0.701021  0.036625   \n",
       "TTTATGCGTACACCGC-1   -1.133924  1.708018 -0.269028  0.221465  0.982527   \n",
       "TTTGCGCCAGTTCCCT-1   -3.104433  1.003681  1.344354 -1.172516  0.540990   \n",
       "\n",
       "                         PC_46     PC_47     PC_48     PC_49     PC_50  \n",
       "index                                                                   \n",
       "AACCATGGTATGAAAC-1   -0.145201 -2.874534 -1.959599 -1.336630 -1.220799  \n",
       "ACACCAAGTCGAGTTT-1   -0.824267 -1.948982  1.355736 -0.379222 -0.905751  \n",
       "ACGCCAGCAGACAGGT-1   -1.575129 -2.158931 -0.539143 -1.303932  0.796643  \n",
       "ACGCCGAGTGGTCCGT-1    0.825474 -2.082528 -1.248391  0.124999 -0.963047  \n",
       "ACTATCTGTCAGATAA-1    0.235083 -1.322299 -1.792635 -0.179830  1.477882  \n",
       "...                        ...       ...       ...       ...       ...  \n",
       "TGGACGCTCTAACTGG-1    0.405680 -2.672419  1.831269  0.925069 -0.587969  \n",
       "TTGAACGCATGGTCAT-1-1 -2.763489 -2.658211  2.034500  0.330851 -2.642577  \n",
       "TTGCGTCGTGGACGAT-1   -1.169341 -3.614798  1.115960 -0.197329 -1.630340  \n",
       "TTTATGCGTACACCGC-1    0.891451 -0.780813 -0.654328  0.642854 -0.053648  \n",
       "TTTGCGCCAGTTCCCT-1   -0.476032 -1.619183 -0.427142 -0.571507  1.040255  \n",
       "\n",
       "[3581 rows x 50 columns]"
      ]
     },
     "execution_count": 53,
     "metadata": {},
     "output_type": "execute_result"
    }
   ],
   "source": [
    "pd.DataFrame(adata.obsm[\"X_pca\"], index=adata.obs.index, columns=[f\"PC_{x+1}\" for x in range(adata.obsm['X_pca'].shape[1])])"
   ]
  },
  {
   "cell_type": "code",
   "execution_count": 125,
   "id": "c6ccb43f-3bf3-47ee-bc10-5716ce744a20",
   "metadata": {},
   "outputs": [],
   "source": [
    "uns = {i: j for i, j in zip(adata.uns, [adata.uns[x].tolist() if isinstance(adata.uns[x], np.ndarray) else adata.uns[x] for x in adata.uns])}"
   ]
  },
  {
   "cell_type": "code",
   "execution_count": 144,
   "id": "8bbd74f4-63d6-4ace-b0c2-5c1df4d81060",
   "metadata": {},
   "outputs": [],
   "source": [
    "uns_dict={\n",
    "    \"pca\": adata.uns[\"pca\"],\n",
    "    \"paga\": adata.uns[\"paga\"]\n",
    "}"
   ]
  },
  {
   "cell_type": "code",
   "execution_count": 155,
   "id": "50ffaa04-50de-4d67-b575-88a0ff7d6f00",
   "metadata": {},
   "outputs": [],
   "source": [
    "adata_dict={\n",
    "    \"obs\": obs,\n",
    "    \"var\": var,\n",
    "    # \"uns\": uns_dict,\n",
    "    \"obsm\": reductions,\n",
    "    \"paga\": adata.uns['paga'],\n",
    "    \"varm\": {x: adata.varm[x].tolist() for x in adata.varm},\n",
    "    \"obsp\": {y: adata.obsp[y].toarray().tolist() for y in adata.obsp},\n",
    "}"
   ]
  },
  {
   "cell_type": "code",
   "execution_count": 156,
   "id": "2a14a843-4bd5-49a8-868b-6615cd4d3abb",
   "metadata": {},
   "outputs": [],
   "source": [
    "with open(Path().home().joinpath(\"pdcs.json\"), \"w+\") as pdc_out:\n",
    "    json.dump(adata_dict, pdc_out, cls=NumpyEncoder)"
   ]
  },
  {
   "cell_type": "code",
   "execution_count": 157,
   "id": "a471bebf-1fba-4a86-a79d-066cf8f1816d",
   "metadata": {},
   "outputs": [
    {
     "data": {
      "text/plain": [
       "PosixPath('/Users/milessmith/pdcs.json')"
      ]
     },
     "execution_count": 157,
     "metadata": {},
     "output_type": "execute_result"
    }
   ],
   "source": [
    "Path().home().joinpath(\"pdcs.json\")"
   ]
  },
  {
   "cell_type": "code",
   "execution_count": 90,
   "id": "cb21a7ee-c4b8-4c08-8537-5ebb79671730",
   "metadata": {},
   "outputs": [
    {
     "data": {
      "text/plain": [
       "{'Batch_colors': numpy.ndarray,\n",
       " 'Race_colors': numpy.ndarray,\n",
       " 'dendrogram_leiden': dict,\n",
       " 'dendrogram_leiden_0.7': dict,\n",
       " 'dendrogram_leiden_1.1': dict,\n",
       " 'dendrogram_leiden_1.2': dict,\n",
       " 'dendrogram_paper_cell_type': dict,\n",
       " 'disease_status_colors': numpy.ndarray,\n",
       " 'hvg': dict,\n",
       " 'leiden': dict,\n",
       " 'leiden_0.6_colors': numpy.ndarray,\n",
       " 'leiden_0.7_colors': numpy.ndarray,\n",
       " 'leiden_0.8_colors': numpy.ndarray,\n",
       " 'leiden_0.9_colors': numpy.ndarray,\n",
       " 'leiden_1.0_colors': numpy.ndarray,\n",
       " 'leiden_1.1_colors': numpy.ndarray,\n",
       " 'leiden_1.2_colors': numpy.ndarray,\n",
       " 'leiden_colors': numpy.ndarray,\n",
       " 'leiden_sizes': numpy.ndarray,\n",
       " 'neighbors': anndata.compat._overloaded_dict.OverloadedDict,\n",
       " 'paga': dict,\n",
       " 'paper_cell_type_colors': numpy.ndarray,\n",
       " 'pca': dict,\n",
       " 'scrublet': dict,\n",
       " 'type_disease_colors': numpy.ndarray,\n",
       " 'umap': dict}"
      ]
     },
     "execution_count": 90,
     "metadata": {},
     "output_type": "execute_result"
    }
   ],
   "source": [
    "{x: type(dict(adata.uns)[x]) for x in dict(adata.uns)}"
   ]
  },
  {
   "cell_type": "code",
   "execution_count": 91,
   "id": "3557b48d-900a-4bc1-be4a-40ffb432ad30",
   "metadata": {},
   "outputs": [
    {
     "data": {
      "text/plain": [
       "array(['#e41a1c', '#4daf4a', '#a65628', '#f781bf', '#f781bf'],\n",
       "      dtype=object)"
      ]
     },
     "execution_count": 91,
     "metadata": {},
     "output_type": "execute_result"
    }
   ],
   "source": [
    "adata.uns[\"leiden_0.6_colors\"]"
   ]
  },
  {
   "cell_type": "code",
   "execution_count": 71,
   "id": "bebea303-8ddb-4015-b52c-7c91e539a5af",
   "metadata": {},
   "outputs": [
    {
     "data": {
      "text/plain": [
       "array([[0., 0., 0., ..., 0., 0., 0.],\n",
       "       [0., 0., 0., ..., 0., 0., 0.],\n",
       "       [0., 0., 0., ..., 0., 0., 0.],\n",
       "       ...,\n",
       "       [0., 0., 0., ..., 0., 0., 0.],\n",
       "       [0., 0., 0., ..., 0., 0., 0.],\n",
       "       [0., 0., 0., ..., 0., 0., 0.]])"
      ]
     },
     "execution_count": 71,
     "metadata": {},
     "output_type": "execute_result"
    }
   ],
   "source": [
    "adata.obsp[\"distances\"].toarray()"
   ]
  },
  {
   "cell_type": "code",
   "execution_count": 154,
   "id": "62de94c8-f360-4238-a0b3-6816392fb054",
   "metadata": {},
   "outputs": [
    {
     "name": "stdout",
     "output_type": "stream",
     "text": [
      "/Users/milessmith/.vscode-insiders/extensions\n"
     ]
    }
   ],
   "source": [
    "!pwd"
   ]
  }
 ],
 "metadata": {
  "kernelspec": {
   "display_name": "Python 3 (ipykernel)",
   "language": "python",
   "name": "python3"
  },
  "language_info": {
   "codemirror_mode": {
    "name": "ipython",
    "version": 3
   },
   "file_extension": ".py",
   "mimetype": "text/x-python",
   "name": "python",
   "nbconvert_exporter": "python",
   "pygments_lexer": "ipython3",
   "version": "3.10.2"
  }
 },
 "nbformat": 4,
 "nbformat_minor": 5
}
